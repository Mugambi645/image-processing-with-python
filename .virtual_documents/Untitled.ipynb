





#Import the modules from skimage - A python module for image processing
from skimage import color, data, io
#load the image
rocket = data.rocket()
gray_scaled_rocket = color.rgb2gray(rocket)
io.imshow(rocket)



io.imshow(gray_scaled_rocket)



